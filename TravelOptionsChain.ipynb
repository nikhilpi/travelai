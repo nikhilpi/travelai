{
 "cells": [
  {
   "cell_type": "code",
   "execution_count": 1,
   "metadata": {},
   "outputs": [],
   "source": [
    "\n",
    "%reload_ext autoreload\n",
    "%autoreload 2\n",
    "import os\n",
    "os.environ[\"LANGCHAIN_HANDLER\"] = \"langchain\"\n",
    "os.environ[\"LANGCHAIN_SESSION\"] = \"session418\"\n",
    "\n",
    "from langchain.chat_models import ChatOpenAI\n",
    "llm = ChatOpenAI(temperature=0, model_name=\"gpt-4\")\n",
    "\n",
    "from langchain import  SerpAPIWrapper\n",
    "from langchain.agents import Tool, load_tools\n",
    "from google_maps.google_maps_tool import TravelTimeInfo\n",
    "from google_maps.google_maps_api import GoogleMapsAPIWrapper\n",
    "\n",
    "search = SerpAPIWrapper()\n",
    "search_tool = Tool(\n",
    "        name=\"Option search\",\n",
    "        func=search.run,\n",
    "        description=\"useful for when you need find businesses or places near a locations. Input: a type of business followed by the location. Output: a list of businesses or places that match the query. Example input: 'coffee shops in San Francisco'\",\n",
    "    )\n",
    "travel_time_tool = TravelTimeInfo(api_wrapper=GoogleMapsAPIWrapper())\n",
    "tools = [\n",
    "    search_tool,\n",
    "    travel_time_tool,\n",
    "] + load_tools(['human','llm-math'], llm=llm)"
   ]
  },
  {
   "cell_type": "code",
   "execution_count": 2,
   "metadata": {},
   "outputs": [],
   "source": [
    "from langchain import LLMChain, PromptTemplate\n",
    "from langchain.llms import BaseLLM\n",
    "from langchain.output_parsers import CommaSeparatedListOutputParser\n",
    "\n",
    "class MetaSheetChain(LLMChain):\n",
    "    \"\"\"Chain to generates tasks.\"\"\"\n",
    "\n",
    "    @classmethod\n",
    "    def from_llm(cls, llm: BaseLLM, verbose: bool = True) -> LLMChain:\n",
    "        \"\"\"Get the response parser.\"\"\"\n",
    "        template = (\n",
    "            \"You are an AI assistant helping a travel agent list options for a given time slot in a travel itinerary.\"\n",
    "            \" Your job is to create a spreadsheet with columns that helps the travel agent compare options given a request.\"\n",
    "            \" You must have column for all important deatils about an option that would allow for the agent to make an informed recommendation.\"\n",
    "            \" \\nYou have these tools available to add data to the columns: {tools}.\"\n",
    "            \" \\nPlease list the columns you would want to create as a comma sperated list of strings.\"\n",
    "            \" Be as specific as possible about the columns, using full sentences to describe the data they should contain such as units.\"\n",
    "            \" Here is the request you are creating columns for: {request}.\")\n",
    "\n",
    "\n",
    "        prompt = PromptTemplate(\n",
    "            template=template,\n",
    "            input_variables=[\n",
    "                \"tools\",\n",
    "                \"request\",\n",
    "            ],\n",
    "            output_parser=CommaSeparatedListOutputParser()\n",
    "        )\n",
    "\n",
    "        return cls(prompt=prompt, llm=llm, verbose=verbose)\n",
    "    \n",
    "class SearchPromptChain(LLMChain):\n",
    "    \"\"\"Chain to generates tasks.\"\"\"\n",
    "\n",
    "    @classmethod\n",
    "    def from_llm(cls, llm: BaseLLM, verbose: bool = True) -> LLMChain:\n",
    "        template = \"\"\"\n",
    "            Please return a list of search prompts that you would run to get the results for the request: '{request}'\n",
    "            Each prompt should follow the following format: a type of business (ex: restuarnt, coffee shop, museum, etc) followed by a single location. \n",
    "            Example input: 'coffee shops in San Francisco'\n",
    "            Only return a comman seperated list of prompts following that exact format.\n",
    "        \"\"\"\n",
    "\n",
    "\n",
    "        prompt = PromptTemplate(\n",
    "            template=template,\n",
    "            input_variables=[\n",
    "                \"tools\",\n",
    "                \"request\",\n",
    "            ],\n",
    "            output_parser=CommaSeparatedListOutputParser()\n",
    "        )\n",
    "\n",
    "        return cls(prompt=prompt, llm=llm, verbose=verbose)\n",
    "\n",
    "chain = MetaSheetChain.from_llm(llm=llm, verbose=True)\n",
    "\n",
    "tools_list=\", \".join([t.name +\": \" + t.description +\" /n\" for t in tools])\n",
    "request=\"I need restaurants in for a timeslot between 175 Haight St and 3150 18th St at 12pm that I can walk between\"\n",
    "# result_columns = chain.predict_and_parse(tools=tools_list, request=request)\n",
    "# print(result_columns)\n"
   ]
  },
  {
   "cell_type": "code",
   "execution_count": 3,
   "metadata": {},
   "outputs": [
    {
     "ename": "ValidationError",
     "evalue": "1 validation error for GooglePlacesAPIWrapper\n__root__\n  Did not find gplaces_api_key, please add an environment variable `GPLACES_API_KEY` which contains it, or pass  `gplaces_api_key` as a named parameter. (type=value_error)",
     "output_type": "error",
     "traceback": [
      "\u001b[0;31m---------------------------------------------------------------------------\u001b[0m",
      "\u001b[0;31mValidationError\u001b[0m                           Traceback (most recent call last)",
      "Cell \u001b[0;32mIn[3], line 2\u001b[0m\n\u001b[1;32m      1\u001b[0m \u001b[39mfrom\u001b[39;00m \u001b[39mlangchain\u001b[39;00m\u001b[39m.\u001b[39;00m\u001b[39mtools\u001b[39;00m \u001b[39mimport\u001b[39;00m GooglePlacesTool\n\u001b[0;32m----> 2\u001b[0m places \u001b[39m=\u001b[39m GooglePlacesTool()\n\u001b[1;32m      3\u001b[0m places\u001b[39m.\u001b[39mrun(\u001b[39m\"\u001b[39m\u001b[39mal fornos\u001b[39m\u001b[39m\"\u001b[39m)\n",
      "File \u001b[0;32m/opt/homebrew/lib/python3.11/site-packages/pydantic/main.py:339\u001b[0m, in \u001b[0;36mpydantic.main.BaseModel.__init__\u001b[0;34m()\u001b[0m\n",
      "File \u001b[0;32m/opt/homebrew/lib/python3.11/site-packages/pydantic/main.py:1066\u001b[0m, in \u001b[0;36mpydantic.main.validate_model\u001b[0;34m()\u001b[0m\n",
      "File \u001b[0;32m/opt/homebrew/lib/python3.11/site-packages/pydantic/fields.py:439\u001b[0m, in \u001b[0;36mpydantic.fields.ModelField.get_default\u001b[0;34m()\u001b[0m\n",
      "File \u001b[0;32m/opt/homebrew/lib/python3.11/site-packages/pydantic/main.py:341\u001b[0m, in \u001b[0;36mpydantic.main.BaseModel.__init__\u001b[0;34m()\u001b[0m\n",
      "\u001b[0;31mValidationError\u001b[0m: 1 validation error for GooglePlacesAPIWrapper\n__root__\n  Did not find gplaces_api_key, please add an environment variable `GPLACES_API_KEY` which contains it, or pass  `gplaces_api_key` as a named parameter. (type=value_error)"
     ]
    }
   ],
   "source": [
    "from langchain.tools import GooglePlacesTool\n",
    "places = GooglePlacesTool()\n",
    "places.run(\"al fornos\")"
   ]
  }
 ],
 "metadata": {
  "kernelspec": {
   "display_name": "Python 3",
   "language": "python",
   "name": "python3"
  },
  "language_info": {
   "codemirror_mode": {
    "name": "ipython",
    "version": 3
   },
   "file_extension": ".py",
   "mimetype": "text/x-python",
   "name": "python",
   "nbconvert_exporter": "python",
   "pygments_lexer": "ipython3",
   "version": "3.11.3"
  },
  "orig_nbformat": 4
 },
 "nbformat": 4,
 "nbformat_minor": 2
}
