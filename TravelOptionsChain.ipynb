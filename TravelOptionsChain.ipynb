{
 "cells": [
  {
   "cell_type": "code",
   "execution_count": null,
   "metadata": {},
   "outputs": [],
   "source": [
    "\n",
    "%reload_ext autoreload\n",
    "%autoreload 2\n",
    "import os\n",
    "os.environ[\"LANGCHAIN_HANDLER\"] = \"langchain\"\n",
    "os.environ[\"LANGCHAIN_SESSION\"] = \"session418\"\n",
    "\n",
    "from langchain.chat_models import ChatOpenAI\n",
    "llm = ChatOpenAI(temperature=0, model_name=\"gpt-4\")\n",
    "\n",
    "from langchain import  SerpAPIWrapper, OpenAI\n",
    "from langchain.agents import Tool, load_tools\n",
    "from google_maps.google_maps_tool import TravelTimeInfo\n",
    "from google_maps.google_maps_api import GoogleMapsAPIWrapper\n",
    "\n",
    "search = SerpAPIWrapper()\n",
    "search_tool = Tool(\n",
    "        name=\"Search\",\n",
    "        func=search.run,\n",
    "        description=\"useful for when you need find information about businesses\",\n",
    "    )\n",
    "travel_time_tool = TravelTimeInfo(api_wrapper=GoogleMapsAPIWrapper())\n",
    "tools = [\n",
    "    search_tool,\n",
    "    travel_time_tool,\n",
    "] + load_tools(['llm-math'], llm=llm)"
   ]
  },
  {
   "cell_type": "code",
   "execution_count": null,
   "metadata": {},
   "outputs": [],
   "source": [
    "from Chains.options_generation_chain import OptionsGeneratorChain\n",
    "options_generator_chain = OptionsGeneratorChain.from_llm(llm=llm, tools=tools, verbose=True)\n",
    "\n",
    "# options_generator_chain({\"request\":\"find me a hotel in new york near time square\"})\n"
   ]
  }
 ],
 "metadata": {
  "kernelspec": {
   "display_name": "Python 3",
   "language": "python",
   "name": "python3"
  },
  "language_info": {
   "codemirror_mode": {
    "name": "ipython",
    "version": 3
   },
   "file_extension": ".py",
   "mimetype": "text/x-python",
   "name": "python",
   "nbconvert_exporter": "python",
   "pygments_lexer": "ipython3",
   "version": "3.11.3"
  },
  "orig_nbformat": 4
 },
 "nbformat": 4,
 "nbformat_minor": 2
}
